{
  "nbformat": 4,
  "nbformat_minor": 0,
  "metadata": {
    "colab": {
      "name": "FinBert.ipynb",
      "provenance": [],
      "collapsed_sections": []
    },
    "kernelspec": {
      "name": "python3",
      "display_name": "Python 3"
    },
    "language_info": {
      "name": "python"
    },
    "accelerator": "GPU"
  },
  "cells": [
    {
      "cell_type": "code",
      "metadata": {
        "id": "OY33tFMqx2CQ",
        "colab": {
          "base_uri": "https://localhost:8080/"
        },
        "outputId": "81d9f661-461a-48ed-f2ba-2b9381671a46"
      },
      "source": [
        "from google.colab import drive\n",
        "drive.mount('/content/drive')"
      ],
      "execution_count": null,
      "outputs": [
        {
          "output_type": "stream",
          "text": [
            "Drive already mounted at /content/drive; to attempt to forcibly remount, call drive.mount(\"/content/drive\", force_remount=True).\n"
          ],
          "name": "stdout"
        }
      ]
    },
    {
      "cell_type": "code",
      "metadata": {
        "colab": {
          "base_uri": "https://localhost:8080/"
        },
        "id": "ZTv1Q4c2SoZR",
        "outputId": "9d4a566e-93c7-4b32-f149-70482917a693"
      },
      "source": [
        "!pip install cloud-tpu-client==0.10 https://storage.googleapis.com/tpu-pytorch/wheels/torch_xla-1.8.1-cp37-cp37m-linux_x86_64.whl"
      ],
      "execution_count": null,
      "outputs": [
        {
          "output_type": "stream",
          "text": [
            "Requirement already satisfied: cloud-tpu-client==0.10 in /usr/local/lib/python3.7/dist-packages (0.10)\n",
            "Requirement already satisfied: torch-xla==1.8.1 from https://storage.googleapis.com/tpu-pytorch/wheels/torch_xla-1.8.1-cp37-cp37m-linux_x86_64.whl in /usr/local/lib/python3.7/dist-packages (1.8.1)\n",
            "Requirement already satisfied: oauth2client in /usr/local/lib/python3.7/dist-packages (from cloud-tpu-client==0.10) (4.1.3)\n",
            "Requirement already satisfied: google-api-python-client==1.8.0 in /usr/local/lib/python3.7/dist-packages (from cloud-tpu-client==0.10) (1.8.0)\n",
            "Requirement already satisfied: rsa>=3.1.4 in /usr/local/lib/python3.7/dist-packages (from oauth2client->cloud-tpu-client==0.10) (4.7.2)\n",
            "Requirement already satisfied: pyasn1>=0.1.7 in /usr/local/lib/python3.7/dist-packages (from oauth2client->cloud-tpu-client==0.10) (0.4.8)\n",
            "Requirement already satisfied: six>=1.6.1 in /usr/local/lib/python3.7/dist-packages (from oauth2client->cloud-tpu-client==0.10) (1.15.0)\n",
            "Requirement already satisfied: httplib2>=0.9.1 in /usr/local/lib/python3.7/dist-packages (from oauth2client->cloud-tpu-client==0.10) (0.17.4)\n",
            "Requirement already satisfied: pyasn1-modules>=0.0.5 in /usr/local/lib/python3.7/dist-packages (from oauth2client->cloud-tpu-client==0.10) (0.2.8)\n",
            "Requirement already satisfied: google-auth-httplib2>=0.0.3 in /usr/local/lib/python3.7/dist-packages (from google-api-python-client==1.8.0->cloud-tpu-client==0.10) (0.0.4)\n",
            "Requirement already satisfied: uritemplate<4dev,>=3.0.0 in /usr/local/lib/python3.7/dist-packages (from google-api-python-client==1.8.0->cloud-tpu-client==0.10) (3.0.1)\n",
            "Requirement already satisfied: google-auth>=1.4.1 in /usr/local/lib/python3.7/dist-packages (from google-api-python-client==1.8.0->cloud-tpu-client==0.10) (1.30.0)\n",
            "Requirement already satisfied: google-api-core<2dev,>=1.13.0 in /usr/local/lib/python3.7/dist-packages (from google-api-python-client==1.8.0->cloud-tpu-client==0.10) (1.26.3)\n",
            "Requirement already satisfied: cachetools<5.0,>=2.0.0 in /usr/local/lib/python3.7/dist-packages (from google-auth>=1.4.1->google-api-python-client==1.8.0->cloud-tpu-client==0.10) (4.2.2)\n",
            "Requirement already satisfied: setuptools>=40.3.0 in /usr/local/lib/python3.7/dist-packages (from google-auth>=1.4.1->google-api-python-client==1.8.0->cloud-tpu-client==0.10) (57.0.0)\n",
            "Requirement already satisfied: pytz in /usr/local/lib/python3.7/dist-packages (from google-api-core<2dev,>=1.13.0->google-api-python-client==1.8.0->cloud-tpu-client==0.10) (2018.9)\n",
            "Requirement already satisfied: googleapis-common-protos<2.0dev,>=1.6.0 in /usr/local/lib/python3.7/dist-packages (from google-api-core<2dev,>=1.13.0->google-api-python-client==1.8.0->cloud-tpu-client==0.10) (1.53.0)\n",
            "Requirement already satisfied: protobuf>=3.12.0 in /usr/local/lib/python3.7/dist-packages (from google-api-core<2dev,>=1.13.0->google-api-python-client==1.8.0->cloud-tpu-client==0.10) (3.12.4)\n",
            "Requirement already satisfied: requests<3.0.0dev,>=2.18.0 in /usr/local/lib/python3.7/dist-packages (from google-api-core<2dev,>=1.13.0->google-api-python-client==1.8.0->cloud-tpu-client==0.10) (2.23.0)\n",
            "Requirement already satisfied: packaging>=14.3 in /usr/local/lib/python3.7/dist-packages (from google-api-core<2dev,>=1.13.0->google-api-python-client==1.8.0->cloud-tpu-client==0.10) (20.9)\n",
            "Requirement already satisfied: urllib3!=1.25.0,!=1.25.1,<1.26,>=1.21.1 in /usr/local/lib/python3.7/dist-packages (from requests<3.0.0dev,>=2.18.0->google-api-core<2dev,>=1.13.0->google-api-python-client==1.8.0->cloud-tpu-client==0.10) (1.24.3)\n",
            "Requirement already satisfied: certifi>=2017.4.17 in /usr/local/lib/python3.7/dist-packages (from requests<3.0.0dev,>=2.18.0->google-api-core<2dev,>=1.13.0->google-api-python-client==1.8.0->cloud-tpu-client==0.10) (2020.12.5)\n",
            "Requirement already satisfied: chardet<4,>=3.0.2 in /usr/local/lib/python3.7/dist-packages (from requests<3.0.0dev,>=2.18.0->google-api-core<2dev,>=1.13.0->google-api-python-client==1.8.0->cloud-tpu-client==0.10) (3.0.4)\n",
            "Requirement already satisfied: idna<3,>=2.5 in /usr/local/lib/python3.7/dist-packages (from requests<3.0.0dev,>=2.18.0->google-api-core<2dev,>=1.13.0->google-api-python-client==1.8.0->cloud-tpu-client==0.10) (2.10)\n",
            "Requirement already satisfied: pyparsing>=2.0.2 in /usr/local/lib/python3.7/dist-packages (from packaging>=14.3->google-api-core<2dev,>=1.13.0->google-api-python-client==1.8.0->cloud-tpu-client==0.10) (2.4.7)\n"
          ],
          "name": "stdout"
        }
      ]
    },
    {
      "cell_type": "code",
      "metadata": {
        "id": "O2xi3ctrnZZJ",
        "colab": {
          "base_uri": "https://localhost:8080/"
        },
        "outputId": "7382566b-5dce-49a7-f902-3e66bb25aeaf"
      },
      "source": [
        "!pip install feedparser\n",
        "!pip install pdfplumber\n",
        "!pip install pypdf2\n",
        "import os\n",
        "import nltk\n",
        "import pandas as pd\n",
        "import matplotlib.pyplot as plt\n",
        "import csv\n",
        "import PyPDF2 as pdf \n",
        "import pdfplumber\n",
        "\n"
      ],
      "execution_count": null,
      "outputs": [
        {
          "output_type": "stream",
          "text": [
            "Requirement already satisfied: feedparser in /usr/local/lib/python3.7/dist-packages (6.0.2)\n",
            "Requirement already satisfied: sgmllib3k in /usr/local/lib/python3.7/dist-packages (from feedparser) (1.0.0)\n",
            "Requirement already satisfied: pdfplumber in /usr/local/lib/python3.7/dist-packages (0.5.28)\n",
            "Requirement already satisfied: Pillow>=7.0.0 in /usr/local/lib/python3.7/dist-packages (from pdfplumber) (7.1.2)\n",
            "Requirement already satisfied: pdfminer.six==20200517 in /usr/local/lib/python3.7/dist-packages (from pdfplumber) (20200517)\n",
            "Requirement already satisfied: Wand in /usr/local/lib/python3.7/dist-packages (from pdfplumber) (0.6.6)\n",
            "Requirement already satisfied: sortedcontainers in /usr/local/lib/python3.7/dist-packages (from pdfminer.six==20200517->pdfplumber) (2.4.0)\n",
            "Requirement already satisfied: chardet; python_version > \"3.0\" in /usr/local/lib/python3.7/dist-packages (from pdfminer.six==20200517->pdfplumber) (3.0.4)\n",
            "Requirement already satisfied: pycryptodome in /usr/local/lib/python3.7/dist-packages (from pdfminer.six==20200517->pdfplumber) (3.10.1)\n",
            "Requirement already satisfied: pypdf2 in /usr/local/lib/python3.7/dist-packages (1.26.0)\n"
          ],
          "name": "stdout"
        }
      ]
    },
    {
      "cell_type": "code",
      "metadata": {
        "colab": {
          "base_uri": "https://localhost:8080/"
        },
        "id": "qO4MA_yfMhfa",
        "outputId": "4d383718-363e-4a67-b67e-f91c2bfc15cd"
      },
      "source": [
        "!pip install transformers"
      ],
      "execution_count": null,
      "outputs": [
        {
          "output_type": "stream",
          "text": [
            "Requirement already satisfied: transformers in /usr/local/lib/python3.7/dist-packages (4.6.1)\n",
            "Requirement already satisfied: filelock in /usr/local/lib/python3.7/dist-packages (from transformers) (3.0.12)\n",
            "Requirement already satisfied: numpy>=1.17 in /usr/local/lib/python3.7/dist-packages (from transformers) (1.19.5)\n",
            "Requirement already satisfied: regex!=2019.12.17 in /usr/local/lib/python3.7/dist-packages (from transformers) (2019.12.20)\n",
            "Requirement already satisfied: sacremoses in /usr/local/lib/python3.7/dist-packages (from transformers) (0.0.45)\n",
            "Requirement already satisfied: importlib-metadata; python_version < \"3.8\" in /usr/local/lib/python3.7/dist-packages (from transformers) (4.0.1)\n",
            "Requirement already satisfied: tokenizers<0.11,>=0.10.1 in /usr/local/lib/python3.7/dist-packages (from transformers) (0.10.3)\n",
            "Requirement already satisfied: tqdm>=4.27 in /usr/local/lib/python3.7/dist-packages (from transformers) (4.41.1)\n",
            "Requirement already satisfied: requests in /usr/local/lib/python3.7/dist-packages (from transformers) (2.23.0)\n",
            "Requirement already satisfied: packaging in /usr/local/lib/python3.7/dist-packages (from transformers) (20.9)\n",
            "Requirement already satisfied: huggingface-hub==0.0.8 in /usr/local/lib/python3.7/dist-packages (from transformers) (0.0.8)\n",
            "Requirement already satisfied: joblib in /usr/local/lib/python3.7/dist-packages (from sacremoses->transformers) (1.0.1)\n",
            "Requirement already satisfied: click in /usr/local/lib/python3.7/dist-packages (from sacremoses->transformers) (7.1.2)\n",
            "Requirement already satisfied: six in /usr/local/lib/python3.7/dist-packages (from sacremoses->transformers) (1.15.0)\n",
            "Requirement already satisfied: typing-extensions>=3.6.4; python_version < \"3.8\" in /usr/local/lib/python3.7/dist-packages (from importlib-metadata; python_version < \"3.8\"->transformers) (3.7.4.3)\n",
            "Requirement already satisfied: zipp>=0.5 in /usr/local/lib/python3.7/dist-packages (from importlib-metadata; python_version < \"3.8\"->transformers) (3.4.1)\n",
            "Requirement already satisfied: chardet<4,>=3.0.2 in /usr/local/lib/python3.7/dist-packages (from requests->transformers) (3.0.4)\n",
            "Requirement already satisfied: idna<3,>=2.5 in /usr/local/lib/python3.7/dist-packages (from requests->transformers) (2.10)\n",
            "Requirement already satisfied: certifi>=2017.4.17 in /usr/local/lib/python3.7/dist-packages (from requests->transformers) (2020.12.5)\n",
            "Requirement already satisfied: urllib3!=1.25.0,!=1.25.1,<1.26,>=1.21.1 in /usr/local/lib/python3.7/dist-packages (from requests->transformers) (1.24.3)\n",
            "Requirement already satisfied: pyparsing>=2.0.2 in /usr/local/lib/python3.7/dist-packages (from packaging->transformers) (2.4.7)\n"
          ],
          "name": "stdout"
        }
      ]
    },
    {
      "cell_type": "code",
      "metadata": {
        "id": "LAz2xUsFnt9a"
      },
      "source": [
        "#importation des rapports\n",
        "def import_text(ch):\n",
        " textepdf=\"\"  \n",
        " f = open(ch,'rb')\n",
        " reader=pdf.PdfFileReader(f,strict = False)\n",
        " if reader.isEncrypted:\n",
        "     reader.decrypt('hoge1234')\n",
        "     print(f\"Number of page: {reader.getNumPages()}\") \n",
        " \n",
        " num = reader.getNumPages()\n",
        " with pdfplumber.open(ch) as f:  \n",
        "  page = f.pages[0]\n",
        "  zz = page.extract_text()\n",
        "  textepdf += str(zz)\n",
        "  for i in range(1, num):\n",
        "    page = f.pages[i]\n",
        "    zz = page.extract_text()\n",
        "    zz = str(zz)\n",
        "    textepdf += zz\n",
        " return textepdf\n",
        "\n",
        " \n"
      ],
      "execution_count": null,
      "outputs": []
    },
    {
      "cell_type": "code",
      "metadata": {
        "id": "PcHqmn0Ln2xO"
      },
      "source": [
        "import re\n",
        "import string\n",
        "#remove ponctuation and numbers\n",
        "\n",
        "def clean_text(text):\n",
        "    '''Make text lowercase, remove text in square brackets, remove punctuation and remove words containing numbers.'''\n",
        "    text = text.lower()\n",
        "    text = re.sub('\\[.*?\\]', '', text)\n",
        "    text = re.sub(r'[0-9]','',text)\n",
        "    text = re.sub('[%s]' % re.escape(string.punctuation), '', text)\n",
        "    text = re.sub('\\w*\\d\\w*', '', text)\n",
        "    text = re.sub('[‘’“”…€•–°º]', '', text)\n",
        "    #text = re.sub('\\n', '', text)\n",
        "    return text\n",
        "   "
      ],
      "execution_count": null,
      "outputs": []
    },
    {
      "cell_type": "code",
      "metadata": {
        "id": "ZzGclbeWKt3v"
      },
      "source": [
        "rapport = clean_text(import_text('/content/drive/MyDrive/Solvay/2014 Annual Report_0_0.pdf'))\n",
        "rapport = rapport[1920:9900]\n",
        "#rapport='what we have achieved in has made us better equipped to deal with the challenges ahead'"
      ],
      "execution_count": null,
      "outputs": []
    },
    {
      "cell_type": "code",
      "metadata": {
        "colab": {
          "base_uri": "https://localhost:8080/"
        },
        "id": "bcIO5hsPYgU-",
        "outputId": "0099d945-dcb1-484d-af9d-78e7b9d9d326"
      },
      "source": [
        "print(rapport)"
      ],
      "execution_count": null,
      "outputs": [
        {
          "output_type": "stream",
          "text": [
            "of the world\n",
            " \n",
            "latin america\n",
            "  of net sales\n",
            " employees\n",
            " industrial sites\n",
            " major ri centers \n",
            "of net sales\n",
            " employees\n",
            " industrial sites\n",
            " major ri center\n",
            "solvaycom  annual report\n",
            "group profile\n",
            "our results  \n",
            "and investments\n",
            " \n",
            " \n",
            "financial indicators\n",
            "continuing operations\n",
            "net sales rebitda adujsted net income  capital \n",
            "in  million  in  million solvay share expenditures\n",
            "in  million in  million \n",
            "\n",
            " \n",
            "\n",
            " \n",
            "\n",
            "\n",
            "                            \n",
            " \n",
            "the usbased eco services business has been disposed as of december st  and has been reported under assets held for sale \n",
            "and discontinued operations as from the third quarter of  for comparative purposes  and  income and cash flow \n",
            "statements data have been restated for eco services business discontinuation as well as for the updated reallocation of shared \n",
            "functions costs from the corporate  business services segment into the global business units \n",
            " and  financial statements reflect the groups application of ifrs \n",
            "furthermore solvay presents adjusted income statement performance indicators that exclude noncash purchase price allocation \n",
            "ppa accounting impacts related to the rhodia acquisition\n",
            " annual report   solvaycom\n",
            "a balanced geographic  \n",
            "presence diversified markets\n",
            "net sales by region  \n",
            "\n",
            "asia pacific   europe \n",
            "and rest of the world  \n",
            "\n",
            "latin america  north america \n",
            " \n",
            "net sales by market  \n",
            "\n",
            "consumer goods   automotive  \n",
            "and healthcare and aeronautics\n",
            " \n",
            "building  \n",
            "and construction\n",
            "\n",
            "industrial applications\n",
            "\n",
            "agro feed  \n",
            "and food\n",
            "\n",
            "electrical and electronics energy and environment\n",
            " \n",
            "solvaycom   aannnnuuaall  rreeppoorrtt\n",
            "nonfinancial indicators\n",
            "occupational accidents  greenhouse gas  energy \n",
            "at group sites   emissions    consumption   \n",
            "accidents per million   mt co equivalent petajoules\n",
            "hours worked\n",
            " \n",
            "\n",
            "\n",
            "\n",
            "\n",
            "    \n",
            "                  \n",
            "restated  restated \n",
            "   \n",
            "mtar   this indicator reflects   this indicator reflects  \n",
            "medical treatment accident rate  the greenhous gas emission  the primary energy consumption \n",
            "rate of accidents   during a given year related   during a given year related  \n",
            "with medical treatment   to manufacturing activities   to manufacturing activities  \n",
            "with or without work  of companies currently  of companies currently \n",
            "stoppage consolidated   consolidated  \n",
            "fully or proportionately  fully or proportionately\n",
            " \n",
            " solvay financial perimeter and all additional sites under solvays operational control for which the group manages and monitors safety performance \n",
            "solvay employees and contractors working on sites\n",
            " solvay financial perimeter in order to enable comparison over time the figures of previous years have been restated to take into account the change  \n",
            "in the consolidation rules\n",
            " annual report solvaycom\n",
            "\n",
            " \n",
            " \n",
            "of the portfolio has been analyzed in \n",
            "an increase of  points compared to \n",
            "sustainable portfolio management spm\n",
            "spm methodology serves as strategic tool  \n",
            "to analyze the impacts of sustainability  \n",
            "megatrends in our businesses \n",
            "to learn more\n",
            " \n",
            "discover the spm methodology  \n",
            "on solvaycom\n",
            "turnover breakdown  \n",
            "by spm category  \n",
            "\n",
            "star   aligned \n",
            " \n",
            "non analyzed  \n",
            "\n",
            "neutral  \n",
            "\n",
            "challenged \n",
            "\n",
            "exposed \n",
            "\n",
            "spm assessments are appreciated at the productapplication  n spm neutral category pac for which there are neither positive  \n",
            "combination pac level   nor negative signal resulting from sustainability trends in the marketplace\n",
            "n spm star category pac for which there is a positive   n spm exposed category pac for which there is a weak negative  \n",
            "signal in line with sustainability trends in the marketplace   signal resulting from sustainability trends in the marketplace  \n",
            "with anticipated doubledigit growth energy efficiency eg restriction in use in one oecd country eg\n",
            "n spm aligned category pac for which there is a positive   n spm challenged category pac for which there is a strong  \n",
            "signal resulting from sustainability trends in the marketplace   negative signal resulting from sustainability trends in the marketplace \n",
            "medical care eg ecotoxicity eg \n",
            " \n",
            "solvaycom  annual report\n",
            "group profile \n",
            "our markets\n",
            "  \n",
            "present in diverse markets we support industries   innovation cycles are accelerating driven by the  \n",
            "right along their value chains with a clear ambition and  ultrarapid  dissemination  of  new  technologies \n",
            "objective to be a source of progress and competitiveness  widespread digitalization increased connectivity and \n",
            "for our customers and consumers by providing them   expanding mobility are creating new uses and new user \n",
            "with innovative efficient and sustainable solutions  needs constantly anticipating and adapting to these \n",
            "adjusting their expectations of today and tomorrow   movements is forcing industries to mobilize new \n",
            "for solvay chemistry provides many solutions to meet  resources \n",
            "the challenges facing our planet today\n",
            "growing resource scarcity and increasing demand  \n",
            "demographic changes are upsetting lifestyles and  for sustainability are assuming an important place  \n",
            "balances with the urbanization of highgrowth areas  in our society the access to fossil fuels and water and \n",
            "optimizing  space  and  nonrenewable  resources   increased food needs are key global challenges solvays \n",
            "presents an increasing challenge as does the growing  chemistry provides solutions for sustainable management \n",
            "consumption of an expanding middle class at the same  of existing resources and meets the challenges of energy \n",
            "time we have to respond to the growing health and  transition based on energy efficiency policies and the use \n",
            "comfort needs of an aging global population of sustainable alternatives\n",
            "evolving demography   innovation   resource contraints and \n",
            "and consumer behavior  acceleration demand for sustainability\n",
            "to learn more\n",
            "find the groups various solution  \n",
            "on solvaycom\n",
            "consumer  \n",
            "goods and healthcare\n",
            "demographic change the rise of a middle class in emerging countries and the globalization  \n",
            "of expectations are strongly impacting consumption patterns offering comfort health and wellbeing  \n",
            "with responses that are safe natural and environmentally friendly represents a major challenge  \n",
            "for consumer goods producers and healthcare market players \n",
            "how do we reconcile the dynamics of innovation with regulatory pressure how do we offer consumers \n",
            "increased convenience while promoting sustainable solutions how do we customize without increasing \n",
            "costs solvay supports its customers in developing competitive and differentiating products and services  \n",
            "that offer everyday comfort and convenience to the user and are better for the environment\n",
            "sustainably improved    needs met  \n",
            "quality of life resources optimized  \n",
            "consumer goods health\n",
            "our intelligent textiles emana® and personal care  we develop a unique range of \n",
            "solutions improve consumer wellbeing examples  thermoplastics for implantable and \n",
            "are the launch in  of jaguar® optima for  nonimplantable medical devices \n",
            "hair care and tixosil® micropearl for body  our zeniva® peek biomaterial \n",
            "exfoliation enabling our customers to develop  is used in spinal implants while \n",
            "innovative and competitive formulations we  radel® ppsu improves the thermal \n",
            "also offer specially adapted solutions for cleaning  performance of sterilization \n",
            "products including augeo® clean plus and  equipment we also manufacture \n",
            "augeo® clean multi solvents to significantly  bicar® sodium bicarbonate for \n",
            "reduce environmental footprints  effervescent tablets\n",
            "agro  \n",
            "feed and food\n",
            "the evolving world population with strong growth in developing countries  \n",
            "is calling for increased crop yields in developed countries consumers are looking  \n",
            "for food that meets their health aspirations in this context optimizing  \n",
            "global resources is becoming a major political issue\n",
            "how do we respond to growing demand while potential arable areas are limited how do we reconcile  \n",
            "yield and quality in order to better feed the world solvay offers a unique portfolio of innovative  \n",
            "and sustainable solutions right along the value chain helping crop and livestock farmers  \n",
            "and food processors to produce high quality prod\n"
          ],
          "name": "stdout"
        }
      ]
    },
    {
      "cell_type": "code",
      "metadata": {
        "id": "-4MgesROL7OS"
      },
      "source": [
        "from transformers import  BertForSequenceClassification , BertTokenizer"
      ],
      "execution_count": null,
      "outputs": []
    },
    {
      "cell_type": "code",
      "metadata": {
        "id": "Y55gBxeDNPN5"
      },
      "source": [
        "tokenizer = BertTokenizer.from_pretrained('ProsusAI/finbert')\n",
        "model = BertForSequenceClassification.from_pretrained('ProsusAI/finbert')"
      ],
      "execution_count": null,
      "outputs": []
    },
    {
      "cell_type": "code",
      "metadata": {
        "colab": {
          "base_uri": "https://localhost:8080/"
        },
        "id": "Qf2fSk3EOZrE",
        "outputId": "2e9eaaaa-e579-4e80-d112-6cd4b9c4ac0f"
      },
      "source": [
        "\n",
        "tokens = tokenizer.encode_plus(rapport,add_special_tokens=True,max_length=512,\n",
        "                               truncation = True,padding=\"max_length\")\n",
        "tokens"
      ],
      "execution_count": null,
      "outputs": [
        {
          "output_type": "execute_result",
          "data": {
            "text/plain": [
              "{'input_ids': [101, 1997, 1996, 2088, 3763, 2637, 1997, 5658, 4341, 5126, 3919, 4573, 2350, 15544, 6401, 1997, 5658, 4341, 5126, 3919, 4573, 2350, 15544, 2415, 14017, 3567, 2100, 9006, 3296, 3189, 2177, 6337, 2256, 3463, 1998, 10518, 3361, 20390, 5719, 3136, 5658, 4341, 2128, 16313, 2850, 4748, 23049, 14701, 5658, 3318, 3007, 1999, 2454, 1999, 2454, 14017, 3567, 2100, 3745, 22697, 1999, 2454, 1999, 2454, 1996, 18833, 11022, 2094, 17338, 2578, 2449, 2038, 2042, 21866, 2004, 1997, 2285, 2358, 1998, 2038, 2042, 2988, 2104, 7045, 2218, 2005, 5096, 1998, 8944, 3136, 2004, 2013, 1996, 2353, 4284, 1997, 2005, 12596, 5682, 1998, 3318, 1998, 5356, 4834, 8635, 2951, 2031, 2042, 2717, 4383, 2005, 17338, 2578, 2449, 12532, 16778, 11231, 3370, 2004, 2092, 2004, 2005, 1996, 7172, 2613, 4135, 10719, 1997, 4207, 4972, 5366, 2013, 1996, 5971, 2449, 2578, 6903, 2046, 1996, 3795, 2449, 3197, 1998, 3361, 8635, 8339, 1996, 2967, 4646, 1997, 2065, 2869, 7297, 14017, 3567, 2100, 7534, 10426, 3318, 4861, 2836, 20390, 2008, 23329, 2512, 15671, 2232, 5309, 3976, 16169, 4903, 2050, 9529, 14670, 3141, 2000, 1996, 1054, 6806, 9032, 7654, 3296, 3189, 14017, 3567, 2100, 9006, 1037, 12042, 9183, 3739, 24908, 6089, 5658, 4341, 2011, 2555, 4021, 3534, 2885, 1998, 2717, 1997, 1996, 2088, 3763, 2637, 2167, 2637, 5658, 4341, 2011, 3006, 7325, 5350, 12945, 1998, 9871, 1998, 27459, 2311, 1998, 2810, 3919, 5097, 12943, 3217, 5438, 1998, 2833, 5992, 1998, 8139, 2943, 1998, 4044, 14017, 3567, 2100, 9006, 9779, 10695, 10695, 2226, 6692, 8095, 25269, 4402, 9397, 16506, 5339, 2102, 2512, 16294, 2319, 13247, 20390, 16928, 13436, 16635, 3806, 2943, 2012, 2177, 4573, 11768, 8381, 13436, 2566, 2454, 11047, 2522, 5662, 9004, 13006, 7140, 4244, 2847, 2499, 2717, 4383, 2717, 4383, 11047, 2906, 2023, 17245, 11138, 2023, 17245, 11138, 2966, 3949, 4926, 3446, 1996, 2665, 6806, 2271, 3806, 15760, 1996, 3078, 2943, 8381, 3446, 1997, 13436, 2076, 1037, 2445, 2095, 3141, 2076, 1037, 2445, 2095, 3141, 2007, 2966, 3949, 2000, 5814, 3450, 2000, 5814, 3450, 2007, 2030, 2302, 2147, 1997, 3316, 2747, 1997, 3316, 2747, 2644, 13704, 10495, 10495, 3929, 2030, 10817, 28239, 3929, 2030, 10817, 28239, 14017, 3567, 2100, 3361, 13443, 1998, 2035, 3176, 4573, 2104, 14017, 3567, 7274, 6515, 2491, 2005, 2029, 1996, 2177, 9020, 1998, 15410, 3808, 2836, 14017, 3567, 2100, 5126, 1998, 16728, 2551, 2006, 4573, 14017, 3567, 2100, 3361, 13443, 1999, 2344, 2000, 9585, 7831, 2058, 2051, 1996, 4481, 1997, 3025, 2086, 2031, 2042, 2717, 4383, 2000, 2202, 2046, 4070, 1996, 2689, 1999, 1996, 17439, 3513, 3296, 3189, 14017, 3567, 2100, 9006, 1997, 1996, 11103, 2038, 2042, 16578, 1999, 2019, 3623, 1997, 2685, 4102, 2000, 9084, 11103, 2968, 11867, 2213, 11867, 2213, 16134, 4240, 2004, 6143, 6994, 2000, 17908, 1996, 14670, 1997, 15169, 13164, 7913, 18376, 1999, 2256, 5661, 2000, 4553, 2062, 7523, 1996, 11867, 2213, 16134, 2006, 14017, 3567, 2100, 9006, 20991, 12554, 2011, 11867, 2213, 4696, 2732, 13115, 2512, 16578, 8699, 8315, 6086, 11867, 2213, 20794, 2024, 12315, 2012, 1996, 4031, 29098, 19341, 3508, 1050, 11867, 2213, 8699, 4696, 14397, 2005, 2029, 2045, 2024, 4445, 3893, 5257, 14397, 2504, 4496, 4997, 4742, 102], 'token_type_ids': [0, 0, 0, 0, 0, 0, 0, 0, 0, 0, 0, 0, 0, 0, 0, 0, 0, 0, 0, 0, 0, 0, 0, 0, 0, 0, 0, 0, 0, 0, 0, 0, 0, 0, 0, 0, 0, 0, 0, 0, 0, 0, 0, 0, 0, 0, 0, 0, 0, 0, 0, 0, 0, 0, 0, 0, 0, 0, 0, 0, 0, 0, 0, 0, 0, 0, 0, 0, 0, 0, 0, 0, 0, 0, 0, 0, 0, 0, 0, 0, 0, 0, 0, 0, 0, 0, 0, 0, 0, 0, 0, 0, 0, 0, 0, 0, 0, 0, 0, 0, 0, 0, 0, 0, 0, 0, 0, 0, 0, 0, 0, 0, 0, 0, 0, 0, 0, 0, 0, 0, 0, 0, 0, 0, 0, 0, 0, 0, 0, 0, 0, 0, 0, 0, 0, 0, 0, 0, 0, 0, 0, 0, 0, 0, 0, 0, 0, 0, 0, 0, 0, 0, 0, 0, 0, 0, 0, 0, 0, 0, 0, 0, 0, 0, 0, 0, 0, 0, 0, 0, 0, 0, 0, 0, 0, 0, 0, 0, 0, 0, 0, 0, 0, 0, 0, 0, 0, 0, 0, 0, 0, 0, 0, 0, 0, 0, 0, 0, 0, 0, 0, 0, 0, 0, 0, 0, 0, 0, 0, 0, 0, 0, 0, 0, 0, 0, 0, 0, 0, 0, 0, 0, 0, 0, 0, 0, 0, 0, 0, 0, 0, 0, 0, 0, 0, 0, 0, 0, 0, 0, 0, 0, 0, 0, 0, 0, 0, 0, 0, 0, 0, 0, 0, 0, 0, 0, 0, 0, 0, 0, 0, 0, 0, 0, 0, 0, 0, 0, 0, 0, 0, 0, 0, 0, 0, 0, 0, 0, 0, 0, 0, 0, 0, 0, 0, 0, 0, 0, 0, 0, 0, 0, 0, 0, 0, 0, 0, 0, 0, 0, 0, 0, 0, 0, 0, 0, 0, 0, 0, 0, 0, 0, 0, 0, 0, 0, 0, 0, 0, 0, 0, 0, 0, 0, 0, 0, 0, 0, 0, 0, 0, 0, 0, 0, 0, 0, 0, 0, 0, 0, 0, 0, 0, 0, 0, 0, 0, 0, 0, 0, 0, 0, 0, 0, 0, 0, 0, 0, 0, 0, 0, 0, 0, 0, 0, 0, 0, 0, 0, 0, 0, 0, 0, 0, 0, 0, 0, 0, 0, 0, 0, 0, 0, 0, 0, 0, 0, 0, 0, 0, 0, 0, 0, 0, 0, 0, 0, 0, 0, 0, 0, 0, 0, 0, 0, 0, 0, 0, 0, 0, 0, 0, 0, 0, 0, 0, 0, 0, 0, 0, 0, 0, 0, 0, 0, 0, 0, 0, 0, 0, 0, 0, 0, 0, 0, 0, 0, 0, 0, 0, 0, 0, 0, 0, 0, 0, 0, 0, 0, 0, 0, 0, 0, 0, 0, 0, 0, 0, 0, 0, 0, 0, 0, 0, 0, 0, 0, 0, 0, 0, 0, 0, 0, 0, 0, 0, 0, 0, 0, 0, 0, 0, 0, 0, 0, 0, 0, 0, 0, 0, 0, 0, 0, 0, 0, 0, 0, 0, 0, 0, 0, 0, 0, 0, 0, 0, 0, 0, 0, 0, 0, 0], 'attention_mask': [1, 1, 1, 1, 1, 1, 1, 1, 1, 1, 1, 1, 1, 1, 1, 1, 1, 1, 1, 1, 1, 1, 1, 1, 1, 1, 1, 1, 1, 1, 1, 1, 1, 1, 1, 1, 1, 1, 1, 1, 1, 1, 1, 1, 1, 1, 1, 1, 1, 1, 1, 1, 1, 1, 1, 1, 1, 1, 1, 1, 1, 1, 1, 1, 1, 1, 1, 1, 1, 1, 1, 1, 1, 1, 1, 1, 1, 1, 1, 1, 1, 1, 1, 1, 1, 1, 1, 1, 1, 1, 1, 1, 1, 1, 1, 1, 1, 1, 1, 1, 1, 1, 1, 1, 1, 1, 1, 1, 1, 1, 1, 1, 1, 1, 1, 1, 1, 1, 1, 1, 1, 1, 1, 1, 1, 1, 1, 1, 1, 1, 1, 1, 1, 1, 1, 1, 1, 1, 1, 1, 1, 1, 1, 1, 1, 1, 1, 1, 1, 1, 1, 1, 1, 1, 1, 1, 1, 1, 1, 1, 1, 1, 1, 1, 1, 1, 1, 1, 1, 1, 1, 1, 1, 1, 1, 1, 1, 1, 1, 1, 1, 1, 1, 1, 1, 1, 1, 1, 1, 1, 1, 1, 1, 1, 1, 1, 1, 1, 1, 1, 1, 1, 1, 1, 1, 1, 1, 1, 1, 1, 1, 1, 1, 1, 1, 1, 1, 1, 1, 1, 1, 1, 1, 1, 1, 1, 1, 1, 1, 1, 1, 1, 1, 1, 1, 1, 1, 1, 1, 1, 1, 1, 1, 1, 1, 1, 1, 1, 1, 1, 1, 1, 1, 1, 1, 1, 1, 1, 1, 1, 1, 1, 1, 1, 1, 1, 1, 1, 1, 1, 1, 1, 1, 1, 1, 1, 1, 1, 1, 1, 1, 1, 1, 1, 1, 1, 1, 1, 1, 1, 1, 1, 1, 1, 1, 1, 1, 1, 1, 1, 1, 1, 1, 1, 1, 1, 1, 1, 1, 1, 1, 1, 1, 1, 1, 1, 1, 1, 1, 1, 1, 1, 1, 1, 1, 1, 1, 1, 1, 1, 1, 1, 1, 1, 1, 1, 1, 1, 1, 1, 1, 1, 1, 1, 1, 1, 1, 1, 1, 1, 1, 1, 1, 1, 1, 1, 1, 1, 1, 1, 1, 1, 1, 1, 1, 1, 1, 1, 1, 1, 1, 1, 1, 1, 1, 1, 1, 1, 1, 1, 1, 1, 1, 1, 1, 1, 1, 1, 1, 1, 1, 1, 1, 1, 1, 1, 1, 1, 1, 1, 1, 1, 1, 1, 1, 1, 1, 1, 1, 1, 1, 1, 1, 1, 1, 1, 1, 1, 1, 1, 1, 1, 1, 1, 1, 1, 1, 1, 1, 1, 1, 1, 1, 1, 1, 1, 1, 1, 1, 1, 1, 1, 1, 1, 1, 1, 1, 1, 1, 1, 1, 1, 1, 1, 1, 1, 1, 1, 1, 1, 1, 1, 1, 1, 1, 1, 1, 1, 1, 1, 1, 1, 1, 1, 1, 1, 1, 1, 1, 1, 1, 1, 1, 1, 1, 1, 1, 1, 1, 1, 1, 1, 1, 1, 1, 1, 1, 1, 1, 1, 1, 1, 1, 1, 1, 1, 1, 1, 1, 1, 1, 1]}"
            ]
          },
          "metadata": {
            "tags": []
          },
          "execution_count": 65
        }
      ]
    },
    {
      "cell_type": "code",
      "metadata": {
        "colab": {
          "base_uri": "https://localhost:8080/"
        },
        "id": "jpvyWQm6Pnv2",
        "outputId": "72fbbdef-2c60-4724-cc94-3b559a97f14c"
      },
      "source": [
        "\n",
        "tokens = tokenizer.encode_plus(rapport,add_special_tokens=False,\n",
        "                               return_tensors='pt')\n",
        "tokens"
      ],
      "execution_count": null,
      "outputs": [
        {
          "output_type": "stream",
          "text": [
            "Token indices sequence length is longer than the specified maximum sequence length for this model (1288 > 512). Running this sequence through the model will result in indexing errors\n"
          ],
          "name": "stderr"
        },
        {
          "output_type": "execute_result",
          "data": {
            "text/plain": [
              "{'input_ids': tensor([[1997, 1996, 2088,  ..., 3737, 4013, 2094]]), 'token_type_ids': tensor([[0, 0, 0,  ..., 0, 0, 0]]), 'attention_mask': tensor([[1, 1, 1,  ..., 1, 1, 1]])}"
            ]
          },
          "metadata": {
            "tags": []
          },
          "execution_count": 66
        }
      ]
    },
    {
      "cell_type": "code",
      "metadata": {
        "id": "hJYlUP9STQiB"
      },
      "source": [
        "# imports pytorch\n",
        "import torch\n",
        "\n",
        "# imports the torch_xla package\n",
        "import torch_xla\n",
        "import torch_xla.core.xla_model as xm"
      ],
      "execution_count": null,
      "outputs": []
    },
    {
      "cell_type": "code",
      "metadata": {
        "colab": {
          "base_uri": "https://localhost:8080/"
        },
        "id": "vcSL3yMHQPLE",
        "outputId": "875c2163-4ec2-45ac-c17a-d1b4c33c2f1e"
      },
      "source": [
        "\n",
        "input_id_chunks = tokens['input_ids'][0].split(510)\n",
        "mask_chunks = tokens['attention_mask'][0].split(510)\n",
        "chunksize = 512\n",
        "input_id_chunks=list(input_id_chunks)\n",
        "mask_chunks=list(mask_chunks)\n",
        "\n",
        "for i in range(len(input_id_chunks)):\n",
        "   input_id_chunks[i]=torch.cat([\n",
        "      torch.Tensor([101]),input_id_chunks[i],torch.Tensor([102])                          \n",
        "   ])\n",
        "   mask_chunks[i]=torch.cat([\n",
        "      torch.Tensor([1]),mask_chunks[i],torch.Tensor([1])                      \n",
        "   ]) \n",
        "  \n",
        "   pad_len = chunksize - input_id_chunks[i].shape[0]\n",
        "   if pad_len > 0:\n",
        "     input_id_chunks[i] = torch.cat([\n",
        "          input_id_chunks[i],torch.Tensor([0]* pad_len)                          \n",
        "     ])\n",
        "     mask_chunks[i] = torch.cat([\n",
        "          mask_chunks[i],torch.Tensor([0]* pad_len)                          \n",
        "     ])\n",
        "input_ids = torch.stack(input_id_chunks)\n",
        "attention_mask = torch.stack(mask_chunks)\n",
        "\n",
        "input_dict = { 'input_ids':input_ids.long(), 'attention_mask':attention_mask.int() }\n",
        "input_dict  \n"
      ],
      "execution_count": null,
      "outputs": [
        {
          "output_type": "execute_result",
          "data": {
            "text/plain": [
              "{'attention_mask': tensor([[1, 1, 1,  ..., 1, 1, 1],\n",
              "         [1, 1, 1,  ..., 1, 1, 1],\n",
              "         [1, 1, 1,  ..., 0, 0, 0]], dtype=torch.int32),\n",
              " 'input_ids': tensor([[  101,  1997,  1996,  ...,  4997,  4742,   102],\n",
              "         [  101,  4525,  2013,  ..., 15770,  8231,   102],\n",
              "         [  101,  5301,  3791,  ...,     0,     0,     0]])}"
            ]
          },
          "metadata": {
            "tags": []
          },
          "execution_count": 68
        }
      ]
    },
    {
      "cell_type": "code",
      "metadata": {
        "id": "cmNovZO5ePGZ"
      },
      "source": [
        "output = model(**input_dict)\n"
      ],
      "execution_count": null,
      "outputs": []
    },
    {
      "cell_type": "code",
      "metadata": {
        "id": "Nyg_O6BEtHM5",
        "colab": {
          "base_uri": "https://localhost:8080/"
        },
        "outputId": "6c70e570-eee1-4e74-c244-175c014bcb87"
      },
      "source": [
        "probs = torch.nn.functional.softmax(output[0],dim=-1)\n",
        "probs"
      ],
      "execution_count": null,
      "outputs": [
        {
          "output_type": "execute_result",
          "data": {
            "text/plain": [
              "tensor([[0.0481, 0.0237, 0.9282],\n",
              "        [0.1693, 0.0156, 0.8151],\n",
              "        [0.5139, 0.0100, 0.4762]], grad_fn=<SoftmaxBackward>)"
            ]
          },
          "metadata": {
            "tags": []
          },
          "execution_count": 70
        }
      ]
    },
    {
      "cell_type": "code",
      "metadata": {
        "id": "7Mf9BcPu3EUh",
        "colab": {
          "base_uri": "https://localhost:8080/"
        },
        "outputId": "95672e27-e252-4d74-dbff-6eed4ba13e4e"
      },
      "source": [
        "mean = probs.mean(dim=0)\n",
        "mean   "
      ],
      "execution_count": null,
      "outputs": [
        {
          "output_type": "execute_result",
          "data": {
            "text/plain": [
              "tensor([0.2437, 0.0164, 0.7398], grad_fn=<MeanBackward1>)"
            ]
          },
          "metadata": {
            "tags": []
          },
          "execution_count": 71
        }
      ]
    },
    {
      "cell_type": "code",
      "metadata": {
        "id": "VddcgFcV4PT4",
        "colab": {
          "base_uri": "https://localhost:8080/"
        },
        "outputId": "2d7bed0c-9335-4db6-ad27-4a354f4e4112"
      },
      "source": [
        "if (mean[0]-mean[1]< 0):\n",
        "  print('negative')\n",
        "if (0<mean[0]-mean[1]< 0.5):\n",
        "  print('positive')    \n",
        "if (mean[0]-mean[1]> 0.5):\n",
        "  print('positive, trés bonne situation')  \n",
        "print('son score est :')\n",
        "print(mean[0]-mean[1])  "
      ],
      "execution_count": null,
      "outputs": [
        {
          "output_type": "stream",
          "text": [
            "positive\n",
            "son score est :\n",
            "tensor(0.2273, grad_fn=<SubBackward0>)\n"
          ],
          "name": "stdout"
        }
      ]
    }
  ]
}